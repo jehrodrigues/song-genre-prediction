{
 "cells": [
  {
   "cell_type": "markdown",
   "id": "f681f5f8",
   "metadata": {},
   "source": [
    "# [LSDA Hackathon] - Song Genre Prediction\n",
    "\n",
    "This notebook aims to predict music genre using NLP Features.\n",
    "\n",
    "* Author: Jessica Rodrigues\n",
    "* Date: 04-03-2024"
   ]
  },
  {
   "cell_type": "code",
   "execution_count": 35,
   "id": "a1706b13",
   "metadata": {},
   "outputs": [],
   "source": [
    "from pathlib import Path"
   ]
  },
  {
   "cell_type": "code",
   "execution_count": 36,
   "id": "49d83387",
   "metadata": {},
   "outputs": [],
   "source": [
    "# project directory\n",
    "project_dir = Path(\".\").resolve().parent"
   ]
  },
  {
   "cell_type": "markdown",
   "id": "a7415b79",
   "metadata": {},
   "source": [
    "## 1. Data\n",
    "\n",
    "In this section, we are going to perform the Exploratory Data Analysis and the pre-processing of training, and test sets."
   ]
  },
  {
   "cell_type": "code",
   "execution_count": 37,
   "id": "4331136a",
   "metadata": {},
   "outputs": [],
   "source": [
    "import pandas as pd\n",
    "from src.data.read_dataset import get_data\n",
    "pd.set_option('display.max_colwidth', None)"
   ]
  },
  {
   "cell_type": "markdown",
   "id": "a97eec44",
   "metadata": {},
   "source": [
    "### 1.1 Lyrics Dataset\n",
    "\n",
    "The autonlp-data-song-lyrics dataset (https://huggingface.co/datasets/juliensimon/autonlp-data-song-lyrics) contains ∼53, 882 entries.\n",
    "\n",
    "The dataset is a csv file and the columns are: **Lyric**, and **Genre0**. The file must be inside the **./data/raw/** directory and the extension must be .csv:\n",
    "* **Genre0**: multiclass variable, indicating six different song genres: Dance (0), Heavy Metal (1), Hip Hop (2), Indie (3), Pop (4), Rock (5)."
   ]
  },
  {
   "cell_type": "code",
   "execution_count": 38,
   "id": "b0661e07",
   "metadata": {},
   "outputs": [],
   "source": [
    "TRAIN_FILE = project_dir / \"data\" / \"raw\" / \"train2.csv\"\n",
    "TEST_FILE = project_dir / \"data\" / \"raw\" / \"raw_val2.csv\""
   ]
  },
  {
   "cell_type": "code",
   "execution_count": 39,
   "id": "e534fb0e",
   "metadata": {},
   "outputs": [],
   "source": [
    "df_train = pd.read_csv(TRAIN_FILE, delimiter=\",\", header=0, encoding='utf-8', engine='python')\n",
    "df_test = pd.read_csv(TEST_FILE, delimiter=\",\", header=0, encoding='utf-8', engine='python')"
   ]
  },
  {
   "cell_type": "code",
   "execution_count": 40,
   "id": "1f0908d8",
   "metadata": {},
   "outputs": [
    {
     "data": {
      "text/html": [
       "<div>\n",
       "<style scoped>\n",
       "    .dataframe tbody tr th:only-of-type {\n",
       "        vertical-align: middle;\n",
       "    }\n",
       "\n",
       "    .dataframe tbody tr th {\n",
       "        vertical-align: top;\n",
       "    }\n",
       "\n",
       "    .dataframe thead th {\n",
       "        text-align: right;\n",
       "    }\n",
       "</style>\n",
       "<table border=\"1\" class=\"dataframe\">\n",
       "  <thead>\n",
       "    <tr style=\"text-align: right;\">\n",
       "      <th></th>\n",
       "      <th>Lyric</th>\n",
       "      <th>Genre0</th>\n",
       "    </tr>\n",
       "  </thead>\n",
       "  <tbody>\n",
       "    <tr>\n",
       "      <th>0</th>\n",
       "      <td>[Intro: Method Man w/ sample] + (Sunny valentine). We got butter (8X). (The gun'll go the gun'll go.... The gun'll go...). [Raekwon]. Aiyo one thing for sure keep you of all. Keep a nice crib fly away keep to the point. Keep niggaz outta ya face who snakes. Keep bitches in they place keep the mac in a special place. Keep moving for papes keep cool keep doing what you doing. Keep it fly keep me in the crates. Cuz I will erase shit on the real note you'se a waste. It's right here for you I will lace you. Rip you and brace you put a nice W up on ya face. Word to mother you could get chased. It's nothing to taste blood on a thug if he gotta go. All I know is we be giving grace. This is a place from where we make tapes. We make 'em everywhere still in all we be making base. Y'all be making paste these little niggaz they be making shapes. Our shit is art yours is traced. [Chorus: Sunny Valentine]. This is the way that we rolling in the streets. You know when we roll we be packing that heat. The gun'll go the gun'll go the gun'll go the gun'll go. The gun'll go the gun'll go the gun'll go the gun'll go. The gun'll go the gun'll go.... [Method Man]. This is Poverty Island man these animals don't run. Slums where the ambulance don't come. Who got the best base? Fiends waiting to smoke some. Approach something ask him where he getting that coke from. My dudes hug blocks like samurai shogun. Cuz no V and no ones equalling no fun. Who want a treat they know huh? Body to go numb. My woman need funds plus her hair and her toes done. It is what it is though you fuck with the kid flow. That make it hard to get dough the harder to get gold. Harder the piff blow harder when it snow. The pinky and the wrist glow this here what we live for. Get gwop then get low but first thought. We gotta get the work off the gift and the curse boss. Yeah see I'm the shit yo the dirt in the fit no. Hustling from the get-go the motto is get more. [Chorus]. [Masta Killa]. We was quiet flashy brothers strapped all along. With the dirty .38 long twelve hour shift gate. Took case state to state you think he won't hold his weight?. Put ya money on the plate and watch it get scrapped. We get ape up in that club off that juice and Henn. And it's a no win situation fucking with them. You mean like Ewing at the front at the rim finger roll a Dutch. Million dollar stages touched techs gauges bust. Trust no one the lone shogun rugged Timb boot stomper. Damaging lyrical mass destruction launcher. Nothing can calm the quakeage when I break kid. Peace to my brothers up north doing state bids. [Chorus]. [Chorus 2: Sunny Valentine]. Whoa... this is the way we be rolling in the club. You know when we roll we be packing .32 snubs. The gun'll go the gun'll go the gun'll go the gun'll go. The gun'll go the gun'll go the gun'll go the gun'll go. The gun'll go the gun'll go the gun'll go the gun'll go. [Outro: sample to fade]. We got butter...</td>\n",
       "      <td>Hip Hop</td>\n",
       "    </tr>\n",
       "    <tr>\n",
       "      <th>1</th>\n",
       "      <td>[Sean Paul:]. Aye. It's Sean Paul 'long side. The mandem called Jay Sean. Fi di gal dem. Tellin' 'em again what we tell 'em. [Jay Sean:]. Pass me a drink to the left yeah. Said her name was Delilah. And I'm like \"you should come my way\". I already surrender. Damn girl that body's fire. You gon' remember my name. (She should give it up definite). You need it. I need it. We can jump in the deep end. I wanna get lost in your love. I just wanna be close to you. (Just wanna I just wanna). And do all the things you want me to. I just wanna be close to you. (I just wanna I just wanna). And show you the way I feel. You make my love go. You make my love go. You make my love go. In the morning we gon' do it again wake up. I'mma do it like we just broke up and made up. Get up on top of me and work up a sweat work up a sweat. See we can do it any type of way that you want. I'm thinking maybe you're the right kind of wrong. I'm saying baby you won't ever forget my love. You need it. I need it. We can jump in the deep end. I wanna get lost in your love. I just wanna be close to you. (Just wanna I just wanna). And do all the things you want me to. I just wanna be close to you. (I just wanna I just wanna). And show you the way I feel. You make my love go. You make my love go. You make my love go. [Sean Paul:]. Girl mi wan' figure hundred hundred and fifty. Love how you move you know that I'm with it. Perfect size I know that you fit it. Just let me hit it you know mi not quit it. Pon di Dl like Cassie and Diddy. Mi na wound a mi watch we like Sin City. Full time mi run da ting mi tall legend. If you don't come gimme dat would I be offended my girl. Come here down wan' see something me want in life and then waste time. A you a mi pree every day baby full time when ya de pon on mi mind. So mi wine if you give it to me baby girl so we can play. Stick to the ting now I am your king my girl this is what we say. [Jay Sean:]. I just wanna be close to you. (Just wanna I just wanna). And do all the things you want me to. I just wanna be close to you. (I just wanna I just wanna). And show you the way I feel. You make my love go. You make my love go. You make my love go</td>\n",
       "      <td>Pop</td>\n",
       "    </tr>\n",
       "    <tr>\n",
       "      <th>2</th>\n",
       "      <td>Beauty finds refuge in herself. Lovers wrapped inside each others lies. Beauty is such a terrible thing. She is suffering yet more than death. She is suffering. She sucks you deeper in. She is suffering. You exist within her shadow. Beauty she is scarred into man's soul. A flower attracting lust vice and sin. A vine that can strangle life from a tree. Carrion surrounding picking on leaves. She is suffering. She sucks you deeper in. She is suffering. You exist within her shadow. Beauty she poisons unfaithful all. Stifled her touch is leprous and pale. The less she gives the more you need her. No thoughts to forget when we were children. She is suffering. She sucks you deeper in. She is suffering. Nature's lukewarm pleasure.</td>\n",
       "      <td>Indie</td>\n",
       "    </tr>\n",
       "  </tbody>\n",
       "</table>\n",
       "</div>"
      ],
      "text/plain": [
       "                                                                                                                                                                                                                                                                                                                                                                                                                                                                                                                                                                                                                                                                                                                                                                                                                                                                                                                                                                                                                                                                                                                                                                                                                                                                                                                                                                                                                                                                                                                                                                                                                                                                                                                                                                                                                                                                                                                                                                                                                                                                                                                                                                                                                                                                                                                                                                                                                                                                                                                                                                                                                                                                                                                                                                                                                                                                                                                                                                                                                                                        Lyric  \\\n",
       "0  [Intro: Method Man w/ sample] + (Sunny valentine). We got butter (8X). (The gun'll go the gun'll go.... The gun'll go...). [Raekwon]. Aiyo one thing for sure keep you of all. Keep a nice crib fly away keep to the point. Keep niggaz outta ya face who snakes. Keep bitches in they place keep the mac in a special place. Keep moving for papes keep cool keep doing what you doing. Keep it fly keep me in the crates. Cuz I will erase shit on the real note you'se a waste. It's right here for you I will lace you. Rip you and brace you put a nice W up on ya face. Word to mother you could get chased. It's nothing to taste blood on a thug if he gotta go. All I know is we be giving grace. This is a place from where we make tapes. We make 'em everywhere still in all we be making base. Y'all be making paste these little niggaz they be making shapes. Our shit is art yours is traced. [Chorus: Sunny Valentine]. This is the way that we rolling in the streets. You know when we roll we be packing that heat. The gun'll go the gun'll go the gun'll go the gun'll go. The gun'll go the gun'll go the gun'll go the gun'll go. The gun'll go the gun'll go.... [Method Man]. This is Poverty Island man these animals don't run. Slums where the ambulance don't come. Who got the best base? Fiends waiting to smoke some. Approach something ask him where he getting that coke from. My dudes hug blocks like samurai shogun. Cuz no V and no ones equalling no fun. Who want a treat they know huh? Body to go numb. My woman need funds plus her hair and her toes done. It is what it is though you fuck with the kid flow. That make it hard to get dough the harder to get gold. Harder the piff blow harder when it snow. The pinky and the wrist glow this here what we live for. Get gwop then get low but first thought. We gotta get the work off the gift and the curse boss. Yeah see I'm the shit yo the dirt in the fit no. Hustling from the get-go the motto is get more. [Chorus]. [Masta Killa]. We was quiet flashy brothers strapped all along. With the dirty .38 long twelve hour shift gate. Took case state to state you think he won't hold his weight?. Put ya money on the plate and watch it get scrapped. We get ape up in that club off that juice and Henn. And it's a no win situation fucking with them. You mean like Ewing at the front at the rim finger roll a Dutch. Million dollar stages touched techs gauges bust. Trust no one the lone shogun rugged Timb boot stomper. Damaging lyrical mass destruction launcher. Nothing can calm the quakeage when I break kid. Peace to my brothers up north doing state bids. [Chorus]. [Chorus 2: Sunny Valentine]. Whoa... this is the way we be rolling in the club. You know when we roll we be packing .32 snubs. The gun'll go the gun'll go the gun'll go the gun'll go. The gun'll go the gun'll go the gun'll go the gun'll go. The gun'll go the gun'll go the gun'll go the gun'll go. [Outro: sample to fade]. We got butter...   \n",
       "1                                                                                                                                                                                                                                                                                                                                                                                                                                                                                                                                                                                                                                                                                                                                                                                       [Sean Paul:]. Aye. It's Sean Paul 'long side. The mandem called Jay Sean. Fi di gal dem. Tellin' 'em again what we tell 'em. [Jay Sean:]. Pass me a drink to the left yeah. Said her name was Delilah. And I'm like \"you should come my way\". I already surrender. Damn girl that body's fire. You gon' remember my name. (She should give it up definite). You need it. I need it. We can jump in the deep end. I wanna get lost in your love. I just wanna be close to you. (Just wanna I just wanna). And do all the things you want me to. I just wanna be close to you. (I just wanna I just wanna). And show you the way I feel. You make my love go. You make my love go. You make my love go. In the morning we gon' do it again wake up. I'mma do it like we just broke up and made up. Get up on top of me and work up a sweat work up a sweat. See we can do it any type of way that you want. I'm thinking maybe you're the right kind of wrong. I'm saying baby you won't ever forget my love. You need it. I need it. We can jump in the deep end. I wanna get lost in your love. I just wanna be close to you. (Just wanna I just wanna). And do all the things you want me to. I just wanna be close to you. (I just wanna I just wanna). And show you the way I feel. You make my love go. You make my love go. You make my love go. [Sean Paul:]. Girl mi wan' figure hundred hundred and fifty. Love how you move you know that I'm with it. Perfect size I know that you fit it. Just let me hit it you know mi not quit it. Pon di Dl like Cassie and Diddy. Mi na wound a mi watch we like Sin City. Full time mi run da ting mi tall legend. If you don't come gimme dat would I be offended my girl. Come here down wan' see something me want in life and then waste time. A you a mi pree every day baby full time when ya de pon on mi mind. So mi wine if you give it to me baby girl so we can play. Stick to the ting now I am your king my girl this is what we say. [Jay Sean:]. I just wanna be close to you. (Just wanna I just wanna). And do all the things you want me to. I just wanna be close to you. (I just wanna I just wanna). And show you the way I feel. You make my love go. You make my love go. You make my love go   \n",
       "2                                                                                                                                                                                                                                                                                                                                                                                                                                                                                                                                                                                                                                                                                                                                                                                                                                                                                                                                                                                                                                                                                                                                                                                                                                                                                                                                                                                                                                                                                                                                                                                                                                                                                                                                                                                                                                                                                                                                                                                                                                                                                                                                                                                                                                                                                                Beauty finds refuge in herself. Lovers wrapped inside each others lies. Beauty is such a terrible thing. She is suffering yet more than death. She is suffering. She sucks you deeper in. She is suffering. You exist within her shadow. Beauty she is scarred into man's soul. A flower attracting lust vice and sin. A vine that can strangle life from a tree. Carrion surrounding picking on leaves. She is suffering. She sucks you deeper in. She is suffering. You exist within her shadow. Beauty she poisons unfaithful all. Stifled her touch is leprous and pale. The less she gives the more you need her. No thoughts to forget when we were children. She is suffering. She sucks you deeper in. She is suffering. Nature's lukewarm pleasure.   \n",
       "\n",
       "    Genre0  \n",
       "0  Hip Hop  \n",
       "1      Pop  \n",
       "2    Indie  "
      ]
     },
     "execution_count": 40,
     "metadata": {},
     "output_type": "execute_result"
    }
   ],
   "source": [
    "df_train.head(3)"
   ]
  },
  {
   "cell_type": "code",
   "execution_count": 41,
   "id": "5c205896-c37d-49ed-b35d-4f175f923303",
   "metadata": {},
   "outputs": [
    {
     "data": {
      "text/html": [
       "<div>\n",
       "<style scoped>\n",
       "    .dataframe tbody tr th:only-of-type {\n",
       "        vertical-align: middle;\n",
       "    }\n",
       "\n",
       "    .dataframe tbody tr th {\n",
       "        vertical-align: top;\n",
       "    }\n",
       "\n",
       "    .dataframe thead th {\n",
       "        text-align: right;\n",
       "    }\n",
       "</style>\n",
       "<table border=\"1\" class=\"dataframe\">\n",
       "  <thead>\n",
       "    <tr style=\"text-align: right;\">\n",
       "      <th></th>\n",
       "      <th>Lyric</th>\n",
       "      <th>Genre0</th>\n",
       "    </tr>\n",
       "  </thead>\n",
       "  <tbody>\n",
       "    <tr>\n",
       "      <th>0</th>\n",
       "      <td>I was nineteen when I came to town they called it the Summer of Love. They were burning babies burning flags. The hawks against the doves. I took a job in the steamie down on Cauldrum Street. And I fell in love with a laundry girl who was working next to me. Oh she was a rare thing fine as a bee's wing. So fine a breath of wind might blow her away. She was a lost child oh she was running wild. She said \"As long as there's no price on love I'll stay.. And you wouldn't want me any other way\". Brown hair zig-zag around her face and a look of half-surprise. Like a fox caught in the headlights there was animal in her eyes. She said \"Young man oh can't you see I'm not the factory kind. If you don't take me out of here I'll surely lose my mind\". Oh she was a rare thing fine as a bee's wing. So fine that I might crush her where she lay. She was a lost child she was running wild. She said \"As long as there's no price on love I'll stay.. And you wouldn't want me any other way\". We busked around the market towns and picked fruit down in Kent. And we could tinker lamps and pots and knives wherever we went. And I said that we might settle down get a few acres dug. Fire burning in the hearth and babies on the rug. She said \"Oh man you foolish man it surely sounds like hell.. You might be lord of half the world you'll not own me as well\". Oh she was a rare thing fine as a bee's wing. So fine a breath of wind might blow her away. She was a lost child oh she was running wild. She said \"As long as there's no price on love I'll stay.. And you wouldn't want me any other way\". We was camping down the Gower one time the work was pretty good. She thought we shouldn't wait for the frost and I thought maybe we should. We was drinking more in those days and tempers reached a pitch. And like a fool I let her run with the rambling itch. Oh the last I heard she's sleeping rough back on the Derby beat. White Horse in her hip pocket and a wolfhound at her feet. And they say she even married once a man named Romany Brown. But even a gypsy caravan was too much settling down. And they say her flower is faded now hard weather and hard booze. But maybe that's just the price you pay for the chains you refuse. Oh she was a rare thing fine as a bee's wing. And I miss her more than ever words could say. If I could just taste all of her wildness now. If I could hold her in my arms today. Well I wouldn't want her any other way</td>\n",
       "      <td>Rock</td>\n",
       "    </tr>\n",
       "    <tr>\n",
       "      <th>1</th>\n",
       "      <td>Your coat and hat are gone. I've really can't look at your little empty shelf. A ragged teddy bear. It feels like we never had a chance. Don't look me in the eye. We lay in each others arms. But the room is just an empty space. I guess we've lived it out. Something in the air. We smiled to fast then can't think of a thing to say. Lived with the best times. Left with the worst. I've danced with you too long. Nothing left to save. Let's take what we can. I know you hold your head up high. We've raced for the last time. A place of no return. And there's is something in the air. Something in my eye. I've dance with you too long (yeah). Something in the air. Something in my eye. Abracadoo I loose you. We can't avoid the clash. The big mistake. Now we're gonna pay and pay. The sentence of our lives. Can't believe I'm asking you to go. We used what we could. To get the things we want. But we lost each other on the way. I guess you know I never wanted anyone more than you. Lived all our best times. Left with the worst. I've danced with you to long. Say what you will. There's something in the air. Raced for the last time. Well I know you'll hold your head up high. But it's nothing we have to say. There's nothing in our eyes. But there's something in the air. Something in my eye. I've danced with you too long. There's something I have to say. There's something in the air. Something in my eye. Do do do do. Do do do do. I've danced with you too long. Do do do do. Do do do do. Danced with you too long. Do do. Danced with you too long. Something in the air. Something in the air. Do do do do.</td>\n",
       "      <td>Rock</td>\n",
       "    </tr>\n",
       "    <tr>\n",
       "      <th>2</th>\n",
       "      <td>Use my Body to keep you with mine. Yeah I'm on Durango number 95.. Take me to the home take boots and ultralive.. See heaven that's a horror show.. Knock it nice and smooth step back and watch it blow. Yeaaah.... Never gonna stop me. Never gonna stop.. Never gonna stop me. Never gonna stop.. Never gonna stop me. Never gonna stop.. Never gonna stop me. Never gonna stop.. Yeah the devil ride it down the shore.. We'll paint the monster red in soda but don't stain the floor.. In and out real savage show.. The story of the shocking sickness and watch it blow. Yeaaahh.... Never gonna stop me. Never gonna stop.. Never gonna stop me. Never gonna stop.. Never gonna stop me. Never gonna stop.. Never gonna stop me. Never gonna stop.. Scream if you want it. Cause I want it more.. Scream if you want it. Cause I want it more.. Yeah I'm on Durango number 95.. Take me to the home take boots and ultralive.. See heaven that's a horror show.. Knock it nice and smooth step back and watch it blow. Yeaaahh.... Never gonna stop me. Never gonna stop.. Never gonna stop me. Never gonna stop.. Never gonna stop me. Never gonna stop.. Never gonna stop me. Never gonna stop.. Scream if you want it. Cause I want it more.. Scream if you want it. Cause I want it more.</td>\n",
       "      <td>Hip Hop</td>\n",
       "    </tr>\n",
       "  </tbody>\n",
       "</table>\n",
       "</div>"
      ],
      "text/plain": [
       "                                                                                                                                                                                                                                                                                                                                                                                                                                                                                                                                                                                                                                                                                                                                                                                                                                                                                                                                                                                                                                                                                                                                                                                                                                                                                                                                                                                                                                                                                                                                                                                                                                                                                                                                                                                                                                                                                                                                                                                                                                                                                                                                                                                                                                                                                                                                                                                                                                                                                                                          Lyric  \\\n",
       "0  I was nineteen when I came to town they called it the Summer of Love. They were burning babies burning flags. The hawks against the doves. I took a job in the steamie down on Cauldrum Street. And I fell in love with a laundry girl who was working next to me. Oh she was a rare thing fine as a bee's wing. So fine a breath of wind might blow her away. She was a lost child oh she was running wild. She said \"As long as there's no price on love I'll stay.. And you wouldn't want me any other way\". Brown hair zig-zag around her face and a look of half-surprise. Like a fox caught in the headlights there was animal in her eyes. She said \"Young man oh can't you see I'm not the factory kind. If you don't take me out of here I'll surely lose my mind\". Oh she was a rare thing fine as a bee's wing. So fine that I might crush her where she lay. She was a lost child she was running wild. She said \"As long as there's no price on love I'll stay.. And you wouldn't want me any other way\". We busked around the market towns and picked fruit down in Kent. And we could tinker lamps and pots and knives wherever we went. And I said that we might settle down get a few acres dug. Fire burning in the hearth and babies on the rug. She said \"Oh man you foolish man it surely sounds like hell.. You might be lord of half the world you'll not own me as well\". Oh she was a rare thing fine as a bee's wing. So fine a breath of wind might blow her away. She was a lost child oh she was running wild. She said \"As long as there's no price on love I'll stay.. And you wouldn't want me any other way\". We was camping down the Gower one time the work was pretty good. She thought we shouldn't wait for the frost and I thought maybe we should. We was drinking more in those days and tempers reached a pitch. And like a fool I let her run with the rambling itch. Oh the last I heard she's sleeping rough back on the Derby beat. White Horse in her hip pocket and a wolfhound at her feet. And they say she even married once a man named Romany Brown. But even a gypsy caravan was too much settling down. And they say her flower is faded now hard weather and hard booze. But maybe that's just the price you pay for the chains you refuse. Oh she was a rare thing fine as a bee's wing. And I miss her more than ever words could say. If I could just taste all of her wildness now. If I could hold her in my arms today. Well I wouldn't want her any other way   \n",
       "1                                                                                                                                                                                                                                                                                                                                                                                                                                                                                                                                                                                                                                                                                                                                                                                                                                                          Your coat and hat are gone. I've really can't look at your little empty shelf. A ragged teddy bear. It feels like we never had a chance. Don't look me in the eye. We lay in each others arms. But the room is just an empty space. I guess we've lived it out. Something in the air. We smiled to fast then can't think of a thing to say. Lived with the best times. Left with the worst. I've danced with you too long. Nothing left to save. Let's take what we can. I know you hold your head up high. We've raced for the last time. A place of no return. And there's is something in the air. Something in my eye. I've dance with you too long (yeah). Something in the air. Something in my eye. Abracadoo I loose you. We can't avoid the clash. The big mistake. Now we're gonna pay and pay. The sentence of our lives. Can't believe I'm asking you to go. We used what we could. To get the things we want. But we lost each other on the way. I guess you know I never wanted anyone more than you. Lived all our best times. Left with the worst. I've danced with you to long. Say what you will. There's something in the air. Raced for the last time. Well I know you'll hold your head up high. But it's nothing we have to say. There's nothing in our eyes. But there's something in the air. Something in my eye. I've danced with you too long. There's something I have to say. There's something in the air. Something in my eye. Do do do do. Do do do do. I've danced with you too long. Do do do do. Do do do do. Danced with you too long. Do do. Danced with you too long. Something in the air. Something in the air. Do do do do.   \n",
       "2                                                                                                                                                                                                                                                                                                                                                                                                                                                                                                                                                                                                                                                                                                                                                                                                                                                                                                                                                                                                                                                                                                                                                                                                                        Use my Body to keep you with mine. Yeah I'm on Durango number 95.. Take me to the home take boots and ultralive.. See heaven that's a horror show.. Knock it nice and smooth step back and watch it blow. Yeaaah.... Never gonna stop me. Never gonna stop.. Never gonna stop me. Never gonna stop.. Never gonna stop me. Never gonna stop.. Never gonna stop me. Never gonna stop.. Yeah the devil ride it down the shore.. We'll paint the monster red in soda but don't stain the floor.. In and out real savage show.. The story of the shocking sickness and watch it blow. Yeaaahh.... Never gonna stop me. Never gonna stop.. Never gonna stop me. Never gonna stop.. Never gonna stop me. Never gonna stop.. Never gonna stop me. Never gonna stop.. Scream if you want it. Cause I want it more.. Scream if you want it. Cause I want it more.. Yeah I'm on Durango number 95.. Take me to the home take boots and ultralive.. See heaven that's a horror show.. Knock it nice and smooth step back and watch it blow. Yeaaahh.... Never gonna stop me. Never gonna stop.. Never gonna stop me. Never gonna stop.. Never gonna stop me. Never gonna stop.. Never gonna stop me. Never gonna stop.. Scream if you want it. Cause I want it more.. Scream if you want it. Cause I want it more.   \n",
       "\n",
       "    Genre0  \n",
       "0     Rock  \n",
       "1     Rock  \n",
       "2  Hip Hop  "
      ]
     },
     "execution_count": 41,
     "metadata": {},
     "output_type": "execute_result"
    }
   ],
   "source": [
    "df_test.head(3)"
   ]
  },
  {
   "cell_type": "code",
   "execution_count": 42,
   "id": "dfe37422",
   "metadata": {},
   "outputs": [
    {
     "name": "stdout",
     "output_type": "stream",
     "text": [
      "<class 'pandas.core.frame.DataFrame'>\n",
      "RangeIndex: 48493 entries, 0 to 48492\n",
      "Data columns (total 2 columns):\n",
      " #   Column  Non-Null Count  Dtype \n",
      "---  ------  --------------  ----- \n",
      " 0   Lyric   48493 non-null  object\n",
      " 1   Genre0  48493 non-null  object\n",
      "dtypes: object(2)\n",
      "memory usage: 757.8+ KB\n"
     ]
    }
   ],
   "source": [
    "df_train.info()"
   ]
  },
  {
   "cell_type": "code",
   "execution_count": 43,
   "id": "05444902-6a83-4520-b18e-f173077eb080",
   "metadata": {},
   "outputs": [
    {
     "name": "stdout",
     "output_type": "stream",
     "text": [
      "<class 'pandas.core.frame.DataFrame'>\n",
      "RangeIndex: 5389 entries, 0 to 5388\n",
      "Data columns (total 2 columns):\n",
      " #   Column  Non-Null Count  Dtype \n",
      "---  ------  --------------  ----- \n",
      " 0   Lyric   5389 non-null   object\n",
      " 1   Genre0  5389 non-null   object\n",
      "dtypes: object(2)\n",
      "memory usage: 84.3+ KB\n"
     ]
    }
   ],
   "source": [
    "df_test.info()"
   ]
  },
  {
   "cell_type": "code",
   "execution_count": 44,
   "id": "2ded4f87",
   "metadata": {},
   "outputs": [
    {
     "data": {
      "text/html": [
       "<div>\n",
       "<style scoped>\n",
       "    .dataframe tbody tr th:only-of-type {\n",
       "        vertical-align: middle;\n",
       "    }\n",
       "\n",
       "    .dataframe tbody tr th {\n",
       "        vertical-align: top;\n",
       "    }\n",
       "\n",
       "    .dataframe thead th {\n",
       "        text-align: right;\n",
       "    }\n",
       "</style>\n",
       "<table border=\"1\" class=\"dataframe\">\n",
       "  <thead>\n",
       "    <tr style=\"text-align: right;\">\n",
       "      <th></th>\n",
       "      <th>Lyric</th>\n",
       "      <th>Genre0</th>\n",
       "    </tr>\n",
       "  </thead>\n",
       "  <tbody>\n",
       "    <tr>\n",
       "      <th>count</th>\n",
       "      <td>48493</td>\n",
       "      <td>48493</td>\n",
       "    </tr>\n",
       "    <tr>\n",
       "      <th>unique</th>\n",
       "      <td>48274</td>\n",
       "      <td>6</td>\n",
       "    </tr>\n",
       "    <tr>\n",
       "      <th>top</th>\n",
       "      <td>[This song is an instrumental.].</td>\n",
       "      <td>Rock</td>\n",
       "    </tr>\n",
       "    <tr>\n",
       "      <th>freq</th>\n",
       "      <td>13</td>\n",
       "      <td>18993</td>\n",
       "    </tr>\n",
       "  </tbody>\n",
       "</table>\n",
       "</div>"
      ],
      "text/plain": [
       "                                   Lyric Genre0\n",
       "count                              48493  48493\n",
       "unique                             48274      6\n",
       "top     [This song is an instrumental.].   Rock\n",
       "freq                                  13  18993"
      ]
     },
     "execution_count": 44,
     "metadata": {},
     "output_type": "execute_result"
    }
   ],
   "source": [
    "df_train.describe()"
   ]
  },
  {
   "cell_type": "code",
   "execution_count": 45,
   "id": "1f698088-0ebb-4968-927d-6834a0db5849",
   "metadata": {},
   "outputs": [
    {
     "data": {
      "text/html": [
       "<div>\n",
       "<style scoped>\n",
       "    .dataframe tbody tr th:only-of-type {\n",
       "        vertical-align: middle;\n",
       "    }\n",
       "\n",
       "    .dataframe tbody tr th {\n",
       "        vertical-align: top;\n",
       "    }\n",
       "\n",
       "    .dataframe thead th {\n",
       "        text-align: right;\n",
       "    }\n",
       "</style>\n",
       "<table border=\"1\" class=\"dataframe\">\n",
       "  <thead>\n",
       "    <tr style=\"text-align: right;\">\n",
       "      <th></th>\n",
       "      <th>Lyric</th>\n",
       "      <th>Genre0</th>\n",
       "    </tr>\n",
       "  </thead>\n",
       "  <tbody>\n",
       "    <tr>\n",
       "      <th>count</th>\n",
       "      <td>5389</td>\n",
       "      <td>5389</td>\n",
       "    </tr>\n",
       "    <tr>\n",
       "      <th>unique</th>\n",
       "      <td>5388</td>\n",
       "      <td>6</td>\n",
       "    </tr>\n",
       "    <tr>\n",
       "      <th>top</th>\n",
       "      <td>Welcome to where time stands still. No one leaves and no one will. Moon is full never seems to change. Just labeled mentally deranged. Dream the same thing every night. I see our freedom in my sight. No locked doors no windows barred. No things to make my brain seem scarred. Sleep my friend and you will see. That dream is my reality. They keep me locked up in this cage. Can't they see it's why my brain says rage. Sanitarium leave me be. Sanitarium just leave me alone. Build my fear of what's out there. And cannot breathe the open air. Whisper things into my brain. Assuring me that I'm insane. They think our heads are in their hands. But violent use brings violent plans. Keep him tied it makes him well. He's getting better can't you tell?. No more can they keep us in. Listen damn it we will win. They see it right they see it well. But they think this saves us from our hell. Sanitarium leave me be. Sanitarium just leave me alone. Sanitarium just leave me alone. Fear of living on. Natives getting restless now. Mutiny in the air. Got some death to do. Mirror stares back hard. Kill it's such a friendly word. Seems the only way. For reaching out again</td>\n",
       "      <td>Rock</td>\n",
       "    </tr>\n",
       "    <tr>\n",
       "      <th>freq</th>\n",
       "      <td>2</td>\n",
       "      <td>2110</td>\n",
       "    </tr>\n",
       "  </tbody>\n",
       "</table>\n",
       "</div>"
      ],
      "text/plain": [
       "                                                                                                                                                                                                                                                                                                                                                                                                                                                                                                                                                                                                                                                                                                                                                                                                                                                                                                                                                                                                                                                                                                                                                                                                              Lyric  \\\n",
       "count                                                                                                                                                                                                                                                                                                                                                                                                                                                                                                                                                                                                                                                                                                                                                                                                                                                                                                                                                                                                                                                                                                                                                                                                          5389   \n",
       "unique                                                                                                                                                                                                                                                                                                                                                                                                                                                                                                                                                                                                                                                                                                                                                                                                                                                                                                                                                                                                                                                                                                                                                                                                         5388   \n",
       "top     Welcome to where time stands still. No one leaves and no one will. Moon is full never seems to change. Just labeled mentally deranged. Dream the same thing every night. I see our freedom in my sight. No locked doors no windows barred. No things to make my brain seem scarred. Sleep my friend and you will see. That dream is my reality. They keep me locked up in this cage. Can't they see it's why my brain says rage. Sanitarium leave me be. Sanitarium just leave me alone. Build my fear of what's out there. And cannot breathe the open air. Whisper things into my brain. Assuring me that I'm insane. They think our heads are in their hands. But violent use brings violent plans. Keep him tied it makes him well. He's getting better can't you tell?. No more can they keep us in. Listen damn it we will win. They see it right they see it well. But they think this saves us from our hell. Sanitarium leave me be. Sanitarium just leave me alone. Sanitarium just leave me alone. Fear of living on. Natives getting restless now. Mutiny in the air. Got some death to do. Mirror stares back hard. Kill it's such a friendly word. Seems the only way. For reaching out again   \n",
       "freq                                                                                                                                                                                                                                                                                                                                                                                                                                                                                                                                                                                                                                                                                                                                                                                                                                                                                                                                                                                                                                                                                                                                                                                                              2   \n",
       "\n",
       "       Genre0  \n",
       "count    5389  \n",
       "unique      6  \n",
       "top      Rock  \n",
       "freq     2110  "
      ]
     },
     "execution_count": 45,
     "metadata": {},
     "output_type": "execute_result"
    }
   ],
   "source": [
    "df_test.describe()"
   ]
  },
  {
   "cell_type": "markdown",
   "id": "2d02c077",
   "metadata": {},
   "source": [
    "### 1.2 Exploratory Data Analysis"
   ]
  },
  {
   "cell_type": "code",
   "execution_count": 46,
   "id": "f3974250",
   "metadata": {},
   "outputs": [],
   "source": [
    "import seaborn as sns\n",
    "import matplotlib.pyplot as plt\n",
    "from sklearn.preprocessing import LabelEncoder\n",
    "from src.data.read_dataset import get_data\n",
    "from src.data.make_dataset import create_train_test_sets"
   ]
  },
  {
   "cell_type": "code",
   "execution_count": 47,
   "id": "771c1275-cd94-4fcf-acf2-aa80dc8f0a55",
   "metadata": {},
   "outputs": [],
   "source": [
    "# Rename key columns\n",
    "df_train.rename(columns={'Genre0': 'label', 'Lyric': 'text'}, inplace=True)\n",
    "df_test.rename(columns={'Genre0': 'label', 'Lyric': 'text'}, inplace=True)"
   ]
  },
  {
   "cell_type": "code",
   "execution_count": 48,
   "id": "40983a53",
   "metadata": {},
   "outputs": [
    {
     "data": {
      "text/plain": [
       "label    0\n",
       "text     0\n",
       "dtype: int64"
      ]
     },
     "execution_count": 48,
     "metadata": {},
     "output_type": "execute_result"
    }
   ],
   "source": [
    "# Checking the missing data\n",
    "df_train.isnull().sum().sort_values(ascending=False)"
   ]
  },
  {
   "cell_type": "code",
   "execution_count": 49,
   "id": "e8ba964f",
   "metadata": {},
   "outputs": [
    {
     "data": {
      "text/plain": [
       "161"
      ]
     },
     "execution_count": 49,
     "metadata": {},
     "output_type": "execute_result"
    }
   ],
   "source": [
    "# Checking the duplicate data\n",
    "df_train.duplicated().sum()"
   ]
  },
  {
   "cell_type": "code",
   "execution_count": 50,
   "id": "fa4e8721",
   "metadata": {},
   "outputs": [],
   "source": [
    "# Removing duplicates\n",
    "df_train = df_train.drop_duplicates()"
   ]
  },
  {
   "cell_type": "code",
   "execution_count": 51,
   "id": "4f4eed65",
   "metadata": {},
   "outputs": [
    {
     "data": {
      "text/plain": [
       "Rock           18954\n",
       "Pop            11118\n",
       "Hip Hop         8860\n",
       "Indie           5081\n",
       "Heavy Metal     2737\n",
       "Dance           1582\n",
       "Name: label, dtype: int64"
      ]
     },
     "execution_count": 51,
     "metadata": {},
     "output_type": "execute_result"
    }
   ],
   "source": [
    "df_train[\"label\"].value_counts()"
   ]
  },
  {
   "cell_type": "code",
   "execution_count": 52,
   "id": "50ac55d9-c61f-4c31-a251-3ea5bc922ee2",
   "metadata": {},
   "outputs": [
    {
     "data": {
      "text/plain": [
       "Rock           2110\n",
       "Pop            1244\n",
       "Hip Hop         964\n",
       "Indie           595\n",
       "Heavy Metal     298\n",
       "Dance           178\n",
       "Name: label, dtype: int64"
      ]
     },
     "execution_count": 52,
     "metadata": {},
     "output_type": "execute_result"
    }
   ],
   "source": [
    "df_test[\"label\"].value_counts()"
   ]
  },
  {
   "cell_type": "code",
   "execution_count": 53,
   "id": "bfdf9825",
   "metadata": {},
   "outputs": [
    {
     "data": {
      "text/plain": [
       "<AxesSubplot:xlabel='label', ylabel='count'>"
      ]
     },
     "execution_count": 53,
     "metadata": {},
     "output_type": "execute_result"
    },
    {
     "data": {
      "image/png": "[encoded data removed]",
      "text/plain": [
       "<Figure size 640x480 with 1 Axes>"
      ]
     },
     "metadata": {},
     "output_type": "display_data"
    }
   ],
   "source": [
    "sns.countplot(x = df_train['label'])"
   ]
  },
  {
   "cell_type": "code",
   "execution_count": 54,
   "id": "172294c6-79a6-4f44-aa9c-0155a55f8574",
   "metadata": {},
   "outputs": [
    {
     "data": {
      "text/plain": [
       "<AxesSubplot:xlabel='label', ylabel='count'>"
      ]
     },
     "execution_count": 54,
     "metadata": {},
     "output_type": "execute_result"
    },
    {
     "data": {
      "image/png": "[encoded data removed]",
      "text/plain": [
       "<Figure size 640x480 with 1 Axes>"
      ]
     },
     "metadata": {},
     "output_type": "display_data"
    }
   ],
   "source": [
    "sns.countplot(x = df_test['label'])"
   ]
  },
  {
   "cell_type": "code",
   "execution_count": 55,
   "id": "b8cba24b",
   "metadata": {},
   "outputs": [],
   "source": [
    "# Changing to numeric type\n",
    "label = LabelEncoder()\n",
    "df_train['label'] = label.fit_transform(df_train['label'])\n",
    "df_test['label'] = label.fit_transform(df_test['label'])"
   ]
  },
  {
   "cell_type": "code",
   "execution_count": 56,
   "id": "46070abc",
   "metadata": {},
   "outputs": [],
   "source": [
    "# save pre-processed files\n",
    "TRAIN_PATH = project_dir / \"data\" / \"processed\" / \"train.csv\"\n",
    "df_train.to_csv(TRAIN_PATH, index=False)\n",
    "TEST_PATH = project_dir / \"data\" / \"processed\" / \"test.csv\"\n",
    "df_test.to_csv(TEST_PATH, index=False)"
   ]
  },
  {
   "cell_type": "markdown",
   "id": "a03f14b6",
   "metadata": {},
   "source": [
    "---\n",
    "**Considerations:**\n",
    "\n",
    "---"
   ]
  },
  {
   "cell_type": "markdown",
   "id": "dd1f3f36",
   "metadata": {},
   "source": [
    "## 2. Training and Prediction\n",
    "\n",
    "In this section, we are going to predict the probabilities of label 0 (**Dance**), label 1 (**Heavy Metal**), label 2 (**Hip Hop**), label 3 (**Indie**), label 4 (**Pop**), label 5 (**Rock**) for the test cases."
   ]
  },
  {
   "cell_type": "code",
   "execution_count": 57,
   "id": "891bd671",
   "metadata": {},
   "outputs": [],
   "source": [
    "from src.models.baseline import BaselinePredict"
   ]
  },
  {
   "cell_type": "code",
   "execution_count": 58,
   "id": "1e2765bf",
   "metadata": {},
   "outputs": [],
   "source": [
    "# Removing label\n",
    "test = df_test.drop([\"label\"], axis=1)"
   ]
  },
  {
   "cell_type": "code",
   "execution_count": 59,
   "id": "5c59e4d8",
   "metadata": {},
   "outputs": [],
   "source": [
    "# Models\n",
    "MODEL = \"LogisticRegression\""
   ]
  },
  {
   "cell_type": "code",
   "execution_count": 60,
   "id": "bad0ae20",
   "metadata": {},
   "outputs": [],
   "source": [
    "# Train and predict\n",
    "model = BaselinePredict(BASELINE_MODEL)\n",
    "df_test[\"predicted\"] = df_test.text.apply(lambda row: model.predict(row)[0])"
   ]
  },
  {
   "cell_type": "markdown",
   "id": "cc7781df",
   "metadata": {},
   "source": [
    "## 3. Evaluation"
   ]
  },
  {
   "cell_type": "markdown",
   "id": "11d0a676",
   "metadata": {},
   "source": [
    "In this section, we are going to use different evaluation metrics to report the performance in the test set. The following metrics will be used: \n",
    "\n",
    "* **Classification metrics** (precision, recall, f-score)."
   ]
  },
  {
   "cell_type": "code",
   "execution_count": 61,
   "id": "9e36706a",
   "metadata": {},
   "outputs": [],
   "source": [
    "import numpy as np\n",
    "from sklearn.metrics import roc_curve, auc"
   ]
  },
  {
   "cell_type": "markdown",
   "id": "88b4b9f1",
   "metadata": {},
   "source": [
    "### 3.1. Multiclass Classification\n",
    "\n",
    "In this section, we want to measure the performance of a classification setup. In this way, we want to predict the label in the test set by using the probability score provided by the model."
   ]
  },
  {
   "cell_type": "markdown",
   "id": "7416a204",
   "metadata": {},
   "source": [
    "#### 3.1.1. Classification Report"
   ]
  },
  {
   "cell_type": "markdown",
   "id": "c1d7663a",
   "metadata": {},
   "source": [
    "For each one of the classification classes, we can mesure the following classification metrics:\n",
    "\n",
    "* **precision** - TP / (TP + FP) - the number of correcly classified in this class divided by the total number of elements labelled as belonging to the given class [[ref](https://en.wikipedia.org/wiki/Precision_and_recall#Definition_(classification_context))];\n",
    "* **recall** - TP / (TP + FN) - the number of correcly classified in this class divided by the total number of elements that actually belong to this class [[ref](https://en.wikipedia.org/wiki/Precision_and_recall#Definition_(classification_context))];\n",
    "* **f1** - 2*(precion+recall)/(precision+recall) - weighted average of the precision and recall.\n",
    "\n",
    "In addition, for each classifier, disregarding the class, we can measure the overall accuracy:\n",
    "\n",
    "* **accuracy** - the number of correctly classified over the number of all sentences, i.e, (TP+TN) / (TP+TN+FP+FN)"
   ]
  },
  {
   "cell_type": "code",
   "execution_count": 62,
   "id": "21a40598",
   "metadata": {},
   "outputs": [],
   "source": [
    "from sklearn.metrics import classification_report\n",
    "from src.data.text_preprocessing import convert_labels"
   ]
  },
  {
   "cell_type": "code",
   "execution_count": 63,
   "id": "a5508268",
   "metadata": {},
   "outputs": [
    {
     "name": "stdout",
     "output_type": "stream",
     "text": [
      "              precision    recall  f1-score   support\n",
      "\n",
      "       Dance       0.30      0.25      0.28       178\n",
      " Heavy Metal       0.27      0.23      0.25       298\n",
      "     Hip Hop       0.82      0.79      0.80       964\n",
      "       Indie       0.25      0.19      0.22       595\n",
      "         Pop       0.48      0.47      0.47      1244\n",
      "        Rock       0.58      0.66      0.62      2110\n",
      "\n",
      "    accuracy                           0.55      5389\n",
      "   macro avg       0.45      0.43      0.44      5389\n",
      "weighted avg       0.54      0.55      0.54      5389\n",
      "\n"
     ]
    }
   ],
   "source": [
    "# performance\n",
    "y_true = df_test[\"label\"]\n",
    "y_pred = df_test[\"predicted\"]\n",
    "print(classification_report(y_true, y_pred, target_names=[\"Dance\", \"Heavy Metal\", \"Hip Hop\", \"Indie\", \"Pop\", \"Rock\"]))"
   ]
  },
  {
   "cell_type": "markdown",
   "id": "21b90ebc",
   "metadata": {},
   "source": [
    "---\n",
    "**Considerations:**\n",
    "\n",
    "---"
   ]
  }
 ],
 "metadata": {
  "kernelspec": {
   "display_name": "Python 3 (ipykernel)",
   "language": "python",
   "name": "python3"
  },
  "language_info": {
   "codemirror_mode": {
    "name": "ipython",
    "version": 3
   },
   "file_extension": ".py",
   "mimetype": "text/x-python",
   "name": "python",
   "nbconvert_exporter": "python",
   "pygments_lexer": "ipython3",
   "version": "3.8.5"
  }
 },
 "nbformat": 4,
 "nbformat_minor": 5
}
